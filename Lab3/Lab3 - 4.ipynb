{
 "cells": [
  {
   "cell_type": "code",
   "execution_count": 7,
   "metadata": {},
   "outputs": [
    {
     "name": "stdout",
     "output_type": "stream",
     "text": [
      "07.09.2022\n",
      "12.04.2011\n",
      "03.12.2024\n"
     ]
    }
   ],
   "source": [
    "from datetime import datetime\n",
    "\n",
    "def nearest_date(*dates):\n",
    "    today = datetime.today()\n",
    "    date_list = [datetime.strptime(date, \"%d.%m.%Y\") for date in dates]\n",
    "    \n",
    "    closest_date = min(date_list, key=lambda d: (abs((d - today).days), d < today))\n",
    "    #print(date_list)\n",
    "    \n",
    "    return closest_date.strftime(\"%d.%m.%Y\")\n",
    "\n",
    "\n",
    "print(nearest_date(\"05.09.2022\", \"07.09.2022\")) \n",
    "print(nearest_date(\"01.01.2050\", \"12.04.2011\", \"31.12.1970\"))  \n",
    "print(nearest_date(\"01.01.2050\", \"01.12.2024\", \"03.12.2024\"))  \n"
   ]
  },
  {
   "cell_type": "code",
   "execution_count": null,
   "metadata": {},
   "outputs": [],
   "source": [
    "\n"
   ]
  }
 ],
 "metadata": {
  "kernelspec": {
   "display_name": "Python 3",
   "language": "python",
   "name": "python3"
  },
  "language_info": {
   "codemirror_mode": {
    "name": "ipython",
    "version": 3
   },
   "file_extension": ".py",
   "mimetype": "text/x-python",
   "name": "python",
   "nbconvert_exporter": "python",
   "pygments_lexer": "ipython3",
   "version": "3.11.9"
  }
 },
 "nbformat": 4,
 "nbformat_minor": 2
}
