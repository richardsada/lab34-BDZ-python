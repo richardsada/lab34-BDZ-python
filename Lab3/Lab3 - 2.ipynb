{
 "cells": [
  {
   "cell_type": "code",
   "execution_count": 14,
   "metadata": {},
   "outputs": [
    {
     "name": "stdout",
     "output_type": "stream",
     "text": [
      "1\n",
      "--\n",
      "10\n"
     ]
    }
   ],
   "source": [
    "from functools import reduce\n",
    "\n",
    "def nod(a):\n",
    "                return {i for i in range(1, a + 1) if a % i == 0}\n",
    "\n",
    "def simplify_fraction(fraction):\n",
    "    \n",
    "    try:\n",
    "        if len(fraction) == 2 and fraction[0] < fraction[1]:\n",
    "            m, n = fraction  \n",
    "            gcd = max(nod(m) & nod(n))  #НОД\n",
    "            \n",
    "            \n",
    "            print(m // gcd)\n",
    "            print(\"--\")\n",
    "            print(n // gcd)\n",
    "        else:\n",
    "            print(\"Ошибка ввода: m должно быть меньше n, и должны быть введены два числа.\")\n",
    "    except Exception as e:\n",
    "        print(\"Ошибка:\", e)\n",
    "\n",
    "\n",
    "\n",
    "simplify_fraction((2, 20))  \n"
   ]
  },
  {
   "cell_type": "code",
   "execution_count": null,
   "metadata": {},
   "outputs": [],
   "source": []
  }
 ],
 "metadata": {
  "kernelspec": {
   "display_name": "Python 3",
   "language": "python",
   "name": "python3"
  },
  "language_info": {
   "codemirror_mode": {
    "name": "ipython",
    "version": 3
   },
   "file_extension": ".py",
   "mimetype": "text/x-python",
   "name": "python",
   "nbconvert_exporter": "python",
   "pygments_lexer": "ipython3",
   "version": "3.11.9"
  }
 },
 "nbformat": 4,
 "nbformat_minor": 2
}
