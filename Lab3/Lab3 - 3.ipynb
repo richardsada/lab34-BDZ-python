{
 "cells": [
  {
   "cell_type": "code",
   "execution_count": 3,
   "metadata": {},
   "outputs": [
    {
     "name": "stdout",
     "output_type": "stream",
     "text": [
      "(1, 0) (1, 0) (2, 1) (2, 2) (3, 2)\n"
     ]
    }
   ],
   "source": [
    "def hofstadter_f_m(n):\n",
    "    return ((f(i), m(i)) for i in range(n))  # Генератор вместо списка\n",
    "\n",
    "\n",
    "def f(n):\n",
    "    if n == 0:\n",
    "        return 1\n",
    "    return n - m(f(n - 1))\n",
    "\n",
    "def m(n):\n",
    "    if n == 0:\n",
    "        return 0\n",
    "    return n - f(m(n - 1))\n",
    "\n",
    "try:\n",
    "    n = int(input(\"Введите целое положительное число n = \"))\n",
    "    \n",
    "    if n > 0:\n",
    "        res = hofstadter_f_m(n)\n",
    "        print(*res)\n",
    "    else:\n",
    "        print(\"Ошибка ввода\")\n",
    "except ValueError:\n",
    "    print(\"Ошибка ввода\")\n"
   ]
  },
  {
   "cell_type": "code",
   "execution_count": null,
   "metadata": {},
   "outputs": [],
   "source": []
  }
 ],
 "metadata": {
  "kernelspec": {
   "display_name": "Python 3",
   "language": "python",
   "name": "python3"
  },
  "language_info": {
   "codemirror_mode": {
    "name": "ipython",
    "version": 3
   },
   "file_extension": ".py",
   "mimetype": "text/x-python",
   "name": "python",
   "nbconvert_exporter": "python",
   "pygments_lexer": "ipython3",
   "version": "3.11.9"
  }
 },
 "nbformat": 4,
 "nbformat_minor": 2
}
