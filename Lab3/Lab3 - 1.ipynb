{
 "cells": [
  {
   "cell_type": "code",
   "execution_count": null,
   "metadata": {},
   "outputs": [
    {
     "name": "stdout",
     "output_type": "stream",
     "text": [
      "Введите множества. Каждое множество вводите с новой строки, элементы разделяйте пробелами.\n",
      "Когда закончите вводить множества, введите пустую строку.\n",
      "Пересечение множеств: {'2', '1'}\n"
     ]
    }
   ],
   "source": [
    "def find_intersection():\n",
    "   \n",
    "    print(\"Введите множества. Каждое множество вводите с новой строки, элементы разделяйте пробелами.\")\n",
    "    print(\"Когда закончите вводить множества, введите пустую строку.\")\n",
    "\n",
    "    sets = []  \n",
    "\n",
    "    while True:\n",
    "        user_input = input(\"Введите множество: \").strip()\n",
    "        if not user_input:  \n",
    "            break\n",
    "        sets.append(set(user_input.split())) \n",
    "\n",
    "    if not sets: \n",
    "        print(\"Вы не ввели ни одного множества.\")\n",
    "        return\n",
    "\n",
    "    result = sets[0]\n",
    "    for s in sets[1:]:\n",
    "        result &= s\n",
    "\n",
    "    print(\"Пересечение множеств:\", result)\n",
    "\n",
    "\n",
    "\n",
    "find_intersection()\n"
   ]
  },
  {
   "cell_type": "code",
   "execution_count": null,
   "metadata": {},
   "outputs": [],
   "source": []
  }
 ],
 "metadata": {
  "kernelspec": {
   "display_name": "Python 3",
   "language": "python",
   "name": "python3"
  },
  "language_info": {
   "codemirror_mode": {
    "name": "ipython",
    "version": 3
   },
   "file_extension": ".py",
   "mimetype": "text/x-python",
   "name": "python",
   "nbconvert_exporter": "python",
   "pygments_lexer": "ipython3",
   "version": "3.11.9"
  }
 },
 "nbformat": 4,
 "nbformat_minor": 2
}
