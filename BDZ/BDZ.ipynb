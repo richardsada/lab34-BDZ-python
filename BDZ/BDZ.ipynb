{
 "cells": [
  {
   "cell_type": "code",
   "execution_count": 10,
   "metadata": {},
   "outputs": [],
   "source": [
    "import pandas as pd\n",
    "import numpy as np\n",
    "import matplotlib.pyplot as plt\n",
    "\n",
    "# Загрузка данных\n",
    "train_df = pd.read_csv('train.csv')\n",
    "test_df = pd.read_csv('test.csv')\n",
    "#print(train_df)"
   ]
  },
  {
   "cell_type": "code",
   "execution_count": 5,
   "metadata": {},
   "outputs": [
    {
     "name": "stdout",
     "output_type": "stream",
     "text": [
      "Pclass  Sex     Survived\n",
      "1       female  1            91\n",
      "                0             3\n",
      "        male    0            77\n",
      "                1            45\n",
      "2       female  1            70\n",
      "                0             6\n",
      "        male    0            91\n",
      "                1            17\n",
      "3       female  0            72\n",
      "                1            72\n",
      "        male    0           300\n",
      "                1            47\n",
      "Name: count, dtype: int64\n"
     ]
    }
   ],
   "source": [
    "#1 \n",
    "# Подсчет выживших/погибших по полу и классу\n",
    "survival_stats = train_df.groupby(['Pclass', 'Sex'])['Survived'].value_counts()\n",
    "print(survival_stats)\n"
   ]
  },
  {
   "cell_type": "code",
   "execution_count": null,
   "metadata": {},
   "outputs": [
    {
     "name": "stdout",
     "output_type": "stream",
     "text": [
      "Статистика для мужчин:\n",
      "        PassengerId    Survived      Pclass         Age       SibSp  \\\n",
      "count   577.000000  577.000000  577.000000  453.000000  577.000000   \n",
      "mean    454.147314    0.188908    2.389948   30.726645    0.429809   \n",
      "std     257.486139    0.391775    0.813580   14.678201    1.061811   \n",
      "min       1.000000    0.000000    1.000000    0.420000    0.000000   \n",
      "25%     222.000000    0.000000    2.000000   21.000000    0.000000   \n",
      "50%     464.000000    0.000000    3.000000   29.000000    0.000000   \n",
      "75%     680.000000    0.000000    3.000000   39.000000    0.000000   \n",
      "max     891.000000    1.000000    3.000000   80.000000    8.000000   \n",
      "\n",
      "            Parch        Fare  \n",
      "count  577.000000  577.000000  \n",
      "mean     0.235702   25.523893  \n",
      "std      0.612294   43.138263  \n",
      "min      0.000000    0.000000  \n",
      "25%      0.000000    7.895800  \n",
      "50%      0.000000   10.500000  \n",
      "75%      0.000000   26.550000  \n",
      "max      5.000000  512.329200  \n",
      "\n",
      "Статистика для женщин:\n",
      "        PassengerId    Survived      Pclass         Age       SibSp  \\\n",
      "count   314.000000  314.000000  314.000000  261.000000  314.000000   \n",
      "mean    431.028662    0.742038    2.159236   27.915709    0.694268   \n",
      "std     256.846324    0.438211    0.857290   14.110146    1.156520   \n",
      "min       2.000000    0.000000    1.000000    0.750000    0.000000   \n",
      "25%     231.750000    0.000000    1.000000   18.000000    0.000000   \n",
      "50%     414.500000    1.000000    2.000000   27.000000    0.000000   \n",
      "75%     641.250000    1.000000    3.000000   37.000000    1.000000   \n",
      "max     889.000000    1.000000    3.000000   63.000000    8.000000   \n",
      "\n",
      "            Parch        Fare  \n",
      "count  314.000000  314.000000  \n",
      "mean     0.649682   44.479818  \n",
      "std      1.022846   57.997698  \n",
      "min      0.000000    6.750000  \n",
      "25%      0.000000   12.071875  \n",
      "50%      0.000000   23.000000  \n",
      "75%      1.000000   55.000000  \n",
      "max      6.000000  512.329200  \n"
     ]
    }
   ],
   "source": [
    "#2  Вывод статистики по числовым полям, разделенной по полу\n",
    "male_stats = train_df[train_df['Sex'] == 'male'].describe()\n",
    "female_stats = train_df[train_df['Sex'] == 'female'].describe()\n",
    "\n",
    "print(\"Статистика для мужчин:\\n\", male_stats)\n",
    "print(\"\\nСтатистика для женщин:\\n\", female_statas)\n"
   ]
  },
  {
   "cell_type": "code",
   "execution_count": null,
   "metadata": {},
   "outputs": [
    {
     "name": "stdout",
     "output_type": "stream",
     "text": [
      "Embarked\n",
      "C    0.553571\n",
      "Q    0.389610\n",
      "S    0.336957\n",
      "Name: Survived, dtype: float64\n"
     ]
    }
   ],
   "source": [
    "#3 Анализ влияния порта посадки на выживаемость\n",
    "embark_survival = train_df.groupby('Embarked')['Survived'].mean() #mean() вычисляет среднее значение по каждому набору данных внутри группы.\n",
    "print(embark_survival)\n"
   ]
  },
  {
   "cell_type": "code",
   "execution_count": null,
   "metadata": {},
   "outputs": [
    {
     "name": "stdout",
     "output_type": "stream",
     "text": [
      "Топ 10 популярных имен:\n",
      "William: 48\n",
      "John: 31\n",
      "Thomas: 19\n",
      "Charles: 16\n",
      "George: 16\n",
      "James: 15\n",
      "Henry: 15\n",
      "Frederick: 13\n",
      "Edward: 13\n",
      "Richard: 11\n",
      "\n",
      "Топ 10 популярных фамилий:\n",
      "Andersson: 9\n",
      "Sage: 7\n",
      "Panula: 6\n",
      "Skoog: 6\n",
      "Carter: 6\n",
      "Goodwin: 6\n",
      "Johnson: 6\n",
      "Rice: 5\n",
      "Lefebre: 4\n",
      "Asplund: 4\n"
     ]
    }
   ],
   "source": [
    "#4 Извлечение имен и фамилий\n",
    "train_df['Last_Name'] = train_df['Name'].apply(lambda x: x.split(',')[0])\n",
    "train_df['First_Name'] = train_df['Name'].apply(lambda x: x.split(',')[1].split()[1] if len(x.split(',')[1].split()) > 1 else x.split(',')[1].split()[0]) #без учета по типу mr и тд\n",
    "\n",
    "# Топ 10 популярных имен\n",
    "top_first_names = train_df['First_Name'].value_counts().head(10)\n",
    "print(\"Топ 10 популярных имен:\")\n",
    "for name, count in top_first_names.items():\n",
    "    print(f\"{name}: {count}\")\n",
    "\n",
    "# Топ 10 популярных фамилий\n",
    "\n",
    "top_last_names = train_df['Last_Name'].value_counts().head(10)\n",
    "print(\"\\nТоп 10 популярных фамилий:\")\n",
    "for name, count in top_last_names.items():\n",
    "    print(f\"{name}: {count}\")\n"
   ]
  },
  {
   "cell_type": "code",
   "execution_count": 21,
   "metadata": {},
   "outputs": [
    {
     "name": "stdout",
     "output_type": "stream",
     "text": [
      "PassengerId      0\n",
      "Survived         0\n",
      "Pclass           0\n",
      "Name             0\n",
      "Sex              0\n",
      "Age            177\n",
      "SibSp            0\n",
      "Parch            0\n",
      "Ticket           0\n",
      "Fare             0\n",
      "Cabin          687\n",
      "Embarked         2\n",
      "dtype: int64\n"
     ]
    }
   ],
   "source": [
    "train_df = pd.read_csv('train.csv')\n",
    "print(train_df.isnull().sum())"
   ]
  },
  {
   "cell_type": "code",
   "execution_count": null,
   "metadata": {},
   "outputs": [
    {
     "name": "stdout",
     "output_type": "stream",
     "text": [
      "PassengerId    0\n",
      "Survived       0\n",
      "Pclass         0\n",
      "Name           0\n",
      "Sex            0\n",
      "Age            0\n",
      "SibSp          0\n",
      "Parch          0\n",
      "Ticket         0\n",
      "Fare           0\n",
      "Cabin          0\n",
      "Embarked       0\n",
      "dtype: int64\n"
     ]
    },
    {
     "name": "stderr",
     "output_type": "stream",
     "text": [
      "C:\\Users\\Семен\\AppData\\Local\\Temp\\ipykernel_11484\\1380349081.py:7: FutureWarning: A value is trying to be set on a copy of a DataFrame or Series through chained assignment using an inplace method.\n",
      "The behavior will change in pandas 3.0. This inplace method will never work because the intermediate object on which we are setting values always behaves as a copy.\n",
      "\n",
      "For example, when doing 'df[col].method(value, inplace=True)', try using 'df.method({col: value}, inplace=True)' or df[col] = df[col].method(value) instead, to perform the operation inplace on the original object.\n",
      "\n",
      "\n",
      "  train_df['Embarked'].fillna(train_df['Embarked'].mode()[0], inplace=True)\n",
      "C:\\Users\\Семен\\AppData\\Local\\Temp\\ipykernel_11484\\1380349081.py:8: FutureWarning: A value is trying to be set on a copy of a DataFrame or Series through chained assignment using an inplace method.\n",
      "The behavior will change in pandas 3.0. This inplace method will never work because the intermediate object on which we are setting values always behaves as a copy.\n",
      "\n",
      "For example, when doing 'df[col].method(value, inplace=True)', try using 'df.method({col: value}, inplace=True)' or df[col] = df[col].method(value) instead, to perform the operation inplace on the original object.\n",
      "\n",
      "\n",
      "  train_df['Cabin'].fillna(train_df['Cabin'].mode()[0], inplace=True)\n"
     ]
    }
   ],
   "source": [
    "#5\n",
    "# train_df = pd.read_csv('train.csv')\n",
    "\n",
    "train_df.fillna(train_df.median(numeric_only=True), inplace=True)\n",
    "\n",
    "\n",
    "train_df['Embarked'].fillna(train_df['Embarked'].mode()[0], inplace=True)\n",
    "train_df['Cabin'].fillna(train_df['Cabin'].mode()[0], inplace=True)\n",
    "\n",
    "# Проверка на наличие пропусков\n",
    "print(train_df.isnull().sum())  # Все пропуски должны быть заполнены\n"
   ]
  },
  {
   "cell_type": "code",
   "execution_count": 22,
   "metadata": {},
   "outputs": [
    {
     "name": "stdout",
     "output_type": "stream",
     "text": [
      "Предсказания сохранены в submission.csv\n"
     ]
    }
   ],
   "source": [
    "#6 Предсказание \n",
    "test_df['Survived'] = 0  # Начнем с предположения, что все погибли\n",
    "test_df.loc[(test_df['Sex'] == 'female') | ((test_df['Pclass'] == 1) | (test_df['Pclass'] == 2)), 'Survived'] = 1 #(выживают все женщины из 1 и 2 классов)\n",
    "\n",
    "# Сохранение результатов в файл\n",
    "test_df[['PassengerId', 'Survived']].to_csv('submission.csv', index=False)\n",
    "print(\"Предсказания сохранены в submission.csv\")\n"
   ]
  },
  {
   "cell_type": "code",
   "execution_count": 25,
   "metadata": {},
   "outputs": [
    {
     "data": {
      "image/png": "[encoded data removed]",
      "text/plain": [
       "<Figure size 1000x600 with 1 Axes>"
      ]
     },
     "metadata": {},
     "output_type": "display_data"
    },
    {
     "data": {
      "image/png": "[encoded data removed]",
      "text/plain": [
       "<Figure size 1000x600 with 1 Axes>"
      ]
     },
     "metadata": {},
     "output_type": "display_data"
    }
   ],
   "source": [
    "#7 Построение гистограммы\n",
    "plt.figure(figsize=(10, 6))\n",
    "train_df[train_df['Survived'] == 1]['Age'].hist(bins=40, label='Выжившие')\n",
    "plt.xlabel('Возраст')\n",
    "plt.ylabel('Количество')\n",
    "plt.title('Зависимость возраста от выживаемости')\n",
    "plt.legend()\n",
    "plt.show()\n",
    "\n",
    "plt.figure(figsize=(10, 6))\n",
    "train_df[train_df['Survived'] == 0]['Age'].hist(bins=20, label='Погибшие')\n",
    "plt.xlabel('Возраст')\n",
    "plt.ylabel('Количество')\n",
    "plt.title('Зависимость возраста от выживаемости')\n",
    "plt.legend()\n",
    "plt.show()\n"
   ]
  },
  {
   "cell_type": "code",
   "execution_count": null,
   "metadata": {},
   "outputs": [],
   "source": []
  }
 ],
 "metadata": {
  "kernelspec": {
   "display_name": "Python 3",
   "language": "python",
   "name": "python3"
  },
  "language_info": {
   "codemirror_mode": {
    "name": "ipython",
    "version": 3
   },
   "file_extension": ".py",
   "mimetype": "text/x-python",
   "name": "python",
   "nbconvert_exporter": "python",
   "pygments_lexer": "ipython3",
   "version": "3.11.9"
  }
 },
 "nbformat": 4,
 "nbformat_minor": 2
}
